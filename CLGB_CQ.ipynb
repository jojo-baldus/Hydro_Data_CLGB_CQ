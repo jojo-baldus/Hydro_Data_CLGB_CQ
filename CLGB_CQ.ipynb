{
 "cells": [
  {
   "cell_type": "markdown",
   "id": "24d81ce6-22f8-43c5-9663-5d9d24724438",
   "metadata": {},
   "source": [
    "# Exploration of College Brook C-Q Dynamics and Hysteresis"
   ]
  },
  {
   "cell_type": "markdown",
   "id": "30f3e0f7-4757-48bf-a800-daa0857f72dc",
   "metadata": {},
   "source": [
    "This project explores nitrate C-Q relationships and hysteresis with high-frequency data from two stations in College Brook, NH."
   ]
  },
  {
   "cell_type": "markdown",
   "id": "37eaf0ce-5154-4593-b540-d30222f6ea00",
   "metadata": {},
   "source": [
    "### Introduction"
   ]
  },
  {
   "cell_type": "markdown",
   "id": "cc777103-4b1e-424b-80c1-fda95d9d2845",
   "metadata": {},
   "source": [
    "An excess of nutrients is one of the major threats to aquatic ecosystems in today’s human-impacted watersheds. Around the mid-20th century, The Green Revolution revolutionized agricultural practices, sustaining a global “population explosion,” but inadvertently shifting natural, balanced nitrogen cycling. The widespread use of nitrogen-based fertilizers and nitrogen-fixing crops, along with the increased burning of fossil fuels, has substantially raised reactive nitrogen levels on a global scale. Nitrate is an essential nutrient for terrestrial and aquatic ecosystems, but when its supply exceeds biological demand, it can trigger a cascade of harmful effects—such as eutrophication, biodiversity loss, and acidification—as well as broader impacts on atmosphere condition, air quality, and human health (Smith 1999, Galloway 2003). Aquatic ecosystem function is the primary source of nitrogen retention and removal within the nitrogen cycle, and is therefore viewed as the primary opportunity for intervention. Effective mitigation of nitrogen impairment begins with a robust understanding of river network nutrient inputs, in-stream dynamics, and total flux."
   ]
  },
  {
   "cell_type": "markdown",
   "id": "2d5ad959-e16f-45aa-bde0-bb98ed5e7c71",
   "metadata": {},
   "source": [
    "The relationships between stream discharge and reactive nutrient concentrations such as nitrate are highly variable and dynamic. Discharge-based total flux estimates that assume a constant concentration quickly breakdown—thus underscoring the need for higher resolution nutrient studies. Concentration-discharge plots are frequently used to examine these relationships, across time, space, and other variables. The relationship between nitrate concentration and discharge can help to understand of active source areas (proximity and supply) and transport flowpaths (speed, length, relative subsurface depth) (Evans and Davies 1998, Zuecco et al. 2016). C-Q relationships that do not match on the rising versus falling limbs of a storm/discharge peak—referred to as hysteresis—often indicate useful information such as an exhaustible nutrient supply, mobilization/activation of a different source area, or changes in nutrient uptake and retention."
   ]
  },
  {
   "cell_type": "markdown",
   "id": "a4c9cb36-2a43-4daf-9616-08fb404b40aa",
   "metadata": {},
   "source": [
    "Storm events dominate total nutrient flux through river networks, compared to baseflows, and are therefore particularly important for understanding broader nutrient dynamics. Storm flows also often display the most complex, impactful C-Q patterns and hysteresis. The frequency and intensity of storms is expected to increase across the world (Whitehead et al. 2009), making intra-storm nutrient responses doubly important. Yet, there are relatively few studies on hydrologic and nutrient responses to storm events due to the inherent difficulty of capturing sufficiently high-resolution data of such dynamic, ephemeral events. High-frequency, in situ sensors are revolutionizing our ability to gain insight into the nutrient dynamics of storm events."
   ]
  },
  {
   "cell_type": "markdown",
   "id": "206020c0-a2b2-4e7f-a3f7-ee6b5a6f9c5a",
   "metadata": {},
   "source": [
    "### Research questions and hypotheses"
   ]
  },
  {
   "cell_type": "markdown",
   "id": "076bfe1d-b449-4568-866d-54cd9aeac275",
   "metadata": {},
   "source": [
    "**Two central research questions** will guide this prjoect:\n",
    "\n",
    "1. What influence do storm characteristics (seasonality, intensity, duration, frequency/occurrence interval, and antecedent conditions) have on nutrient sources, transport, and total loading in river networks? \n",
    "\n",
    "Knowledge of these hydroclimatic influences is essential for improving predictive models and understanding the possible effects of a changing precipitation regime on water quality management.\n",
    "\n",
    "2. What influence does land-use have on these patterns of storm response nutrient export, on a sub-catchment scale?\n",
    "\n",
    "Nutrient sources and transport pathways are often highly heterogeneous across a patchwork of land uses throughout a watershed, leading to high variability of inputs. Assessing the impact of land-use on storm response nutrient loading at a sub-catchment, reach-level granularity is novel, and can improve our understanding of the specific scale at which nutrient loads vary and can be addressed with targeted management and restoration practices.\n",
    "\n",
    "**Hypotheses**\n",
    "\n",
    "1. Storm characteristics **will** have an effect and **significant correlation** with patterns of nutrient storm response. A buildup of nutrients over dry spells will lead to \"flushing\" during the next storm event, delivering higher concentrations to the stream, especially with a big initial pulse. Seasonoally this will be most evident in fall storms after the drier summer monthes. Meanwhile, spring storm, being more frequent, will not exihibit the same \"flush\" of built-up nutrients, and rather will be \"diluting\" with relatively lower nutrient fluxes.\n",
    "\n",
    "2. More intense and/or prolonged storms may activate a more distal source area and/or slower flow pathways than smaller storms, and thus may exhibit a secondary signature of nutrient delivery later in the event (on the falling limb).\n",
    "\n",
    "3. More forested sections of the catchment will display the most mediated mutrient loading, with lower concentrations and less hysteresis, due to uptake by plants, deep soils, and lack of human-impacts/nutrient sources. Urban reaches feature high proportions of impervious surfaces, as well as nutrient additions (such as lawn fetilizers), and thus will deliver very rapid initial flushes of nutrients, before transitioning to a \"diluting\" force. Agricultural areas will offer the most inexhaustable nutrient source due to manure and/or fertilizer applications, but may have a complex hysteresis response depending on how proximal the highest concentrations on nutrients are to the stream. "
   ]
  },
  {
   "cell_type": "markdown",
   "id": "36c4e9f1-b054-439e-81e3-91d40ece400b",
   "metadata": {},
   "source": [
    "### Study area"
   ]
  },
  {
   "cell_type": "markdown",
   "id": "4b4465fe-7dde-4716-aec4-25f75fda9100",
   "metadata": {},
   "source": [
    "The study site for these analyses is College Brook -- a small headwater stream residing in a mixed land-use catchment in Durham, New Hampshire. Withing College Brook, there are two study sites. The first, called CLBG.AG, is in an intermittent reach just downstream from an agricultural area (The UNH Fairchild Dairy Teaching and Research Center). The second, CLGB.UPPER is downstream just 1/4 mile or so, with College Woods bordering the riverbank right between the two, and athletic fields and some parking lots on river-left. Critically, it is between these two stations that a restoration has been proposed, to restore stream function and buffer stormwater flows and nitrate pulses."
   ]
  },
  {
   "cell_type": "markdown",
   "id": "4901c08b-0b28-4268-898c-6ba43efdd5d6",
   "metadata": {},
   "source": [
    "Figure 1. Site map"
   ]
  },
  {
   "cell_type": "markdown",
   "id": "41a0d2ff-d51e-4158-a0e6-361c465a63ba",
   "metadata": {},
   "source": [
    "### Data description"
   ]
  },
  {
   "cell_type": "markdown",
   "id": "35ba07e2-7898-4871-a2ba-dae362ee47d4",
   "metadata": {},
   "source": []
  },
  {
   "cell_type": "markdown",
   "id": "aa4c83e4-674f-42c4-8b66-ccd4b8e91122",
   "metadata": {},
   "source": [
    "### Setup"
   ]
  },
  {
   "cell_type": "code",
   "execution_count": null,
   "id": "ef4c3c6d-3222-4218-b8b0-f49f040c95f7",
   "metadata": {},
   "outputs": [],
   "source": [
    "\"\"\"\n",
    "\n",
    "Parameters\n",
    "----------\n",
    "q_files : list of strings of discharge (Q) datafiles. i.e. ['CLGBag_Q_2022-2025.csv']\n",
    "n_files : list of strings of discharge (Q) datafiles. i.e. ['CLGBag_N_2022-2023.csv', 'CLGBag_N_2024.csv']\n",
    "\n",
    "@author: josephbaldus\n",
    "@date = 2025-10-20\n",
    "@license = MIT -- https://opensource.org/licenses/MIT\n",
    "\n",
    "\"\"\""
   ]
  },
  {
   "cell_type": "code",
   "execution_count": null,
   "id": "34471539-2bc3-451e-89c2-b6340a827dee",
   "metadata": {},
   "outputs": [],
   "source": [
    "#%% Imports\n",
    "import pandas as pd\n",
    "import numpy as np\n",
    "from matplotlib import pyplot as plt"
   ]
  },
  {
   "cell_type": "code",
   "execution_count": null,
   "id": "b7b5ffeb-ae00-4ba8-9f24-1cc2e56a23d2",
   "metadata": {},
   "outputs": [],
   "source": [
    "#%% Specified parameters to change!\n",
    "\n",
    "q_files = ['CLGBag_Q_2022-2025.csv']\n",
    "n_files = ['CLGBag_N_2022-2023.csv', 'CLGBag_N_2024.csv']"
   ]
  },
  {
   "cell_type": "code",
   "execution_count": null,
   "id": "e375fab6-77cd-4853-b095-9bb0c107adb3",
   "metadata": {},
   "outputs": [],
   "source": [
    "#%% GLOBAL VARIABLE/UNIT CONVERSIONS\n"
   ]
  },
  {
   "cell_type": "markdown",
   "id": "6e000bc8-587e-44c1-9c50-8883ad371bb9",
   "metadata": {},
   "source": [
    "### Prepare data"
   ]
  },
  {
   "cell_type": "markdown",
   "id": "7ffec071-9843-4874-bab9-e1b741ad0dc6",
   "metadata": {},
   "source": [
    "This section reads in all the high-frequency discharge and nitrate datafiles from the in-situ optical nitrate analyzer sensors and pressure transducers. We then do some data cleaning, leaving out erroneous readings, and merge all data into one dataset for further analysis."
   ]
  },
  {
   "cell_type": "code",
   "execution_count": null,
   "id": "6771f332-4dac-4e4e-a01f-fad8fd49aac7",
   "metadata": {},
   "outputs": [],
   "source": [
    "#%% Load data function\n",
    "\n",
    "def load(filename):\n",
    "    df = pd.read_csv(filename, index_col=[0])\n",
    "    df.index = pd.to_datetime(df.index, format='mixed', errors='coerce')\n",
    "    df.columns = df.columns.str.lower().str.strip()\n",
    "    return df"
   ]
  },
  {
   "cell_type": "code",
   "execution_count": null,
   "id": "965931c9-2e01-4100-9b77-5f7e6fdd256e",
   "metadata": {},
   "outputs": [],
   "source": [
    "#%% Load all N file(s)\n",
    "\n",
    "raw_ndata = pd.DataFrame()\n",
    "\n",
    "for file in n_files:\n",
    "    raw_ndata = pd.concat([raw_ndata, load(file)], axis = 0)\n",
    "    \n",
    "# N QC flag columns\n",
    "if 'no3.mgl.qf' in raw_ndata.columns.tolist():\n",
    "    n_data = raw_ndata[raw_ndata['no3.mgl.qf'] == False] #false is good\n",
    "\n",
    "if 'flag' in raw_ndata.columns.tolist():\n",
    "    n_data = raw_ndata[~raw_ndata['flag'].isin([1,2])] #1,2 is bad\n"
   ]
  },
  {
   "cell_type": "code",
   "execution_count": null,
   "id": "1cadec32-bddd-43c7-849f-5ab65bf41939",
   "metadata": {},
   "outputs": [],
   "source": [
    "#%% Load Q file(s)\n",
    "\n",
    "raw_qdata = pd.DataFrame()\n",
    "\n",
    "for file in q_files:\n",
    "    raw_qdata = pd.concat([raw_qdata, load(file)], axis = 0)\n",
    "    \n",
    "# Q QC flag columns\n",
    "if 'q.m3sqf' in raw_qdata.columns.tolist():\n",
    "    q_data = raw_qdata[raw_qdata['q.m3sqf'] == False]"
   ]
  },
  {
   "cell_type": "code",
   "execution_count": null,
   "id": "7a987615-9502-4fd8-ae0e-e32cfdff91e7",
   "metadata": {},
   "outputs": [],
   "source": [
    "#%% Combine N and Q files\n",
    "\n",
    "keep_cols = ['no3.mgl', 'q.m3s', 'measured.q.m3s']\n",
    "\n",
    "data = pd.merge(n_data, q_data, how='outer', left_index=True, right_index=True)\n",
    "data = data[keep_cols]\n",
    "\n",
    "data.rename(columns={'no3.mgl': 'N'}, inplace=True)\n",
    "data.rename(columns={'q.m3s': 'Q'}, inplace=True)"
   ]
  },
  {
   "cell_type": "code",
   "execution_count": null,
   "id": "bc3a17ac-a1ff-43f6-b262-72b313578df5",
   "metadata": {},
   "outputs": [],
   "source": [
    "#%% Checks function\n",
    "\n",
    "check_n = n_data[n_data['no3.mgl'].notna()]\n",
    "check_n2 = data[data['N'].notna()]\n",
    "\n",
    "check_q = q_data[q_data['q.m3s'].notna()]\n",
    "check_q2 = data[data['Q'].notna()]\n"
   ]
  },
  {
   "cell_type": "markdown",
   "id": "e0fb7ada-22c0-4bbf-814c-6e3ee8c41ac3",
   "metadata": {},
   "source": [
    "### Time-series plots"
   ]
  },
  {
   "cell_type": "markdown",
   "id": "24b27881-cbf9-4a84-890f-004b5e1b1a0b",
   "metadata": {},
   "source": [
    "This section creates plots of discharge and nitrate concentrations over time. First over the whole study area, from 2022 to 2024, and then zooming in on several individual storm events that we will continue to investigate in future analyses."
   ]
  },
  {
   "cell_type": "code",
   "execution_count": null,
   "id": "5ef472dd-51e8-476d-8109-b65377d5013b",
   "metadata": {},
   "outputs": [],
   "source": [
    "# Write time series plotting function?"
   ]
  },
  {
   "cell_type": "code",
   "execution_count": null,
   "id": "6f39b5e7-a630-401d-b04d-9c3b1146528c",
   "metadata": {},
   "outputs": [],
   "source": [
    "# Plots!\n",
    "\n",
    "#data = data.loc['2024-08-01':'2024-08-15'] #to subset data/zoom in, will integrate into a plot function\n",
    "\n",
    "fig1, ax1 = plt.subplots(figsize=(12, 4))\n",
    "\n",
    "# Plot nitrate concentration (left Y-axis)\n",
    "ax1.plot(data.index, data.N, color='orange', label=\"Nitrate (mg/L)\", linewidth=1)\n",
    "ax1.set_ylabel(\"Nitrate concentration (mg/L)\", color='orange')\n",
    "ax1.tick_params(axis='y', labelcolor='orange')\n",
    "\n",
    "# Create a twin axis sharing the same X-axis\n",
    "ax2 = ax1.twinx()\n",
    "\n",
    "# Plot discharge (right Y-axis)\n",
    "ax2.plot(data.index, data.Q, color='blue', label=\"Discharge (m³/s)\", linewidth=.5)\n",
    "ax2.set_ylabel(\"Discharge (m³/s)\", color='blue')\n",
    "ax2.tick_params(axis='y', labelcolor='blue')\n",
    "\n",
    "# Add title\n",
    "ax1.set_title(\"College Brook, NH: Q versus N over time\")\n",
    "\n",
    "# Auto-format date labels\n",
    "fig1.autofmt_xdate()\n",
    "\n",
    "# Combine legends from both axes\n",
    "lines_1, labels_1 = ax1.get_legend_handles_labels()\n",
    "lines_2, labels_2 = ax2.get_legend_handles_labels()\n",
    "ax1.legend(lines_1 + lines_2, labels_1 + labels_2, loc='upper left')\n",
    "\n",
    "plt.show()"
   ]
  },
  {
   "cell_type": "code",
   "execution_count": null,
   "id": "3786c1a8-c3f1-4558-a646-ef8026403ec5",
   "metadata": {},
   "outputs": [],
   "source": [
    "# Layer in precipitation record to show delay from precip to Q to C?"
   ]
  },
  {
   "cell_type": "code",
   "execution_count": null,
   "id": "fc261105-c449-4b65-8dfc-fa6e04f08d68",
   "metadata": {},
   "outputs": [],
   "source": [
    "# Select a few storms to zoom in on, still time series plotting."
   ]
  },
  {
   "cell_type": "markdown",
   "id": "54044af4-6cba-41fd-af06-f58ff1a1b244",
   "metadata": {},
   "source": [
    "### C-Q plots"
   ]
  },
  {
   "cell_type": "code",
   "execution_count": 1,
   "id": "9f7c42f1-748f-40f0-a724-dfadefc1e848",
   "metadata": {},
   "outputs": [],
   "source": [
    "# First, plot all C-values against Q-values to examine general trend/relationship.\n",
    "# 3 ways: Linear, log-linear, and log-log."
   ]
  },
  {
   "cell_type": "code",
   "execution_count": null,
   "id": "5d23d4a8-1c2a-4750-ad34-13464eb2c8c8",
   "metadata": {},
   "outputs": [],
   "source": [
    "# Turn whicher one best fits relationship into a function"
   ]
  },
  {
   "cell_type": "code",
   "execution_count": null,
   "id": "cf91fd31-6a4b-42dd-90fc-2136bfbd6515",
   "metadata": {},
   "outputs": [],
   "source": [
    "# To then plot individual storm events on C-Q, showing time progression + hysteresis. (Select and demarcate storms manually)"
   ]
  },
  {
   "cell_type": "code",
   "execution_count": null,
   "id": "04203c74-01bf-452f-8cc5-b06ad41e113c",
   "metadata": {},
   "outputs": [],
   "source": [
    "# Compare storms from different seasons, between two sites (to show land-use effects), and of different sized"
   ]
  },
  {
   "cell_type": "markdown",
   "id": "084b44a6-8823-418a-9fdf-e7ea92b3077a",
   "metadata": {},
   "source": [
    "### Calculate Hysteresis Indicies to compare quantitatively/objectively (if time allows and ambitions are high, otherwise for the future)"
   ]
  },
  {
   "cell_type": "markdown",
   "id": "9374a180-ed30-4339-8ef0-9fc5caed07f0",
   "metadata": {},
   "source": [
    "Involves normalizing C-Q plot data, calculating integrals along rising versus falling limbs, then subtracting each pair of integrals where Q is the same between rising and falling. The sum of those integral differences gives a hysteresis index value h. Where h is positive, indicates clockwise hysteresis. Where negative, hysteresis is anticlockwise."
   ]
  },
  {
   "cell_type": "markdown",
   "id": "507ede44-6e95-4109-bdd1-85ca7b791aea",
   "metadata": {},
   "source": [
    "### Discussion, Conclusions"
   ]
  },
  {
   "cell_type": "markdown",
   "id": "87380297-26a0-410c-abeb-0e63ac68db04",
   "metadata": {},
   "source": [
    "I expect to see various patterns of \"diluting\" concentrations and/or \"flushing\" raising concentrations, during storm events. Additionally, there will be different patterns of hysteresis between the storms, with some showing clockwise loops, others anticlockwise, and many more complex figure-8s and complex patterns. The hypothesis is that these patterns, both flushing vs. diluting and hysteresis, will be influenced by and show correlations with storm size, seasonality, and sub-catchment-level land-use."
   ]
  },
  {
   "cell_type": "markdown",
   "id": "20c63d3a-9b43-4dfa-b9c2-159e67e8e343",
   "metadata": {},
   "source": [
    "### References"
   ]
  },
  {
   "cell_type": "markdown",
   "id": "5c8b55ab-2a91-4b24-a3ba-d5cc1754f0f3",
   "metadata": {},
   "source": [
    "Evans, Christopher, and Trevor D. Davies. “Causes of Concentration/Discharge Hysteresis and Its Potential as a Tool for Analysis of Episode Hydrochemistry.” Water Resources Research 34, no. 1 (1998): 129–37. https://doi.org/10.1029/97WR01881."
   ]
  },
  {
   "cell_type": "markdown",
   "id": "bc9d495c-6563-4086-ac2e-4f4d26a5446c",
   "metadata": {},
   "source": [
    "Galloway, James N., John D. Aber, Jan Willem Erisman, et al. “The Nitrogen Cascade.” BioScience 53, no. 4 (2003): 341. https://doi.org/10.1641/0006-3568(2003)053%255B0341:TNC%255D2.0.CO;2."
   ]
  },
  {
   "cell_type": "markdown",
   "id": "5cfca927-23d8-4f95-b831-6c378b54fd63",
   "metadata": {},
   "source": [
    "Smith, V.H., G.D. Tilman, and J.C. Nekola. “Eutrophication: Impacts of Excess Nutrient Inputs on Freshwater, Marine, and Terrestrial Ecosystems.” Environmental Pollution 100, nos. 1–3 (1999): 179–96. https://doi.org/10.1016/S0269-7491(99)00091-3."
   ]
  },
  {
   "cell_type": "markdown",
   "id": "965f5cff-3a6c-4c12-a358-0f8def982719",
   "metadata": {},
   "source": [
    "Vaughan, M. C. H., W. B. Bowden, J. B. Shanley, et al. “High‐frequency Dissolved Organic Carbon and Nitrate Measurements Reveal Differences in Storm Hysteresis and Loading in Relation to Land Cover and Seasonality.” Water Resources Research 53, no. 7 (2017): 5345–63. https://doi.org/10.1002/2017WR020491."
   ]
  },
  {
   "cell_type": "markdown",
   "id": "2c95a061-4bd6-4029-849e-c91e2d03ddff",
   "metadata": {},
   "source": [
    "Whitehead, P. G., R. L. Wilby, R. W. Battarbee, M. Kernan, and A. J. Wade. “A Review of the Potential Impacts of Climate Change on Surface Water Quality.” Hydrological Sciences Journal 54, no. 1 (2009): 101–23. https://doi.org/10.1623/hysj.54.1.101."
   ]
  },
  {
   "cell_type": "markdown",
   "id": "e82c1629-b845-4f5b-8ba7-8de33dfb03c7",
   "metadata": {},
   "source": [
    "Zuecco, G., D. Penna, M. Borga, and H. J. Van Meerveld. “A Versatile Index to Characterize Hysteresis between Hydrological Variables at the Runoff Event Timescale.” Hydrological Processes 30, no. 9 (2016): 1449–66. https://doi.org/10.1002/hyp.10681."
   ]
  }
 ],
 "metadata": {
  "kernelspec": {
   "display_name": "Python 3 (ipykernel)",
   "language": "python",
   "name": "python3"
  },
  "language_info": {
   "codemirror_mode": {
    "name": "ipython",
    "version": 3
   },
   "file_extension": ".py",
   "mimetype": "text/x-python",
   "name": "python",
   "nbconvert_exporter": "python",
   "pygments_lexer": "ipython3",
   "version": "3.12.4"
  }
 },
 "nbformat": 4,
 "nbformat_minor": 5
}
