{
 "cells": [
  {
   "cell_type": "markdown",
   "id": "e5ea4bbc-26b1-46e6-9011-527e477abb89",
   "metadata": {},
   "source": [
    "Exploration of College Brook Hysteresis"
   ]
  },
  {
   "cell_type": "code",
   "execution_count": null,
   "id": "ef4c3c6d-3222-4218-b8b0-f49f040c95f7",
   "metadata": {},
   "outputs": [],
   "source": [
    "\"\"\"\n",
    "\n",
    "Parameters\n",
    "----------\n",
    "q_files : list of strings of discharge (Q) datafiles. i.e. ['CLGBag_Q_2022-2025.csv']\n",
    "n_files : list of strings of discharge (Q) datafiles. i.e. ['CLGBag_N_2022-2023.csv', 'CLGBag_N_2024.csv']\n",
    "\n",
    "@author: josephbaldus\n",
    "@date = 2025-10-20\n",
    "@license = MIT -- https://opensource.org/licenses/MIT\n",
    "\n",
    "\"\"\""
   ]
  },
  {
   "cell_type": "code",
   "execution_count": null,
   "id": "34471539-2bc3-451e-89c2-b6340a827dee",
   "metadata": {},
   "outputs": [],
   "source": [
    "#%% Imports\n",
    "import pandas as pd\n",
    "import numpy as np\n",
    "from matplotlib import pyplot as plt"
   ]
  },
  {
   "cell_type": "code",
   "execution_count": null,
   "id": "b7b5ffeb-ae00-4ba8-9f24-1cc2e56a23d2",
   "metadata": {},
   "outputs": [],
   "source": [
    "#%% Specified parameters to change!\n",
    "\n",
    "q_files = ['CLGBag_Q_2022-2025.csv']\n",
    "n_files = ['CLGBag_N_2022-2023.csv', 'CLGBag_N_2024.csv']"
   ]
  },
  {
   "cell_type": "code",
   "execution_count": null,
   "id": "e375fab6-77cd-4853-b095-9bb0c107adb3",
   "metadata": {},
   "outputs": [],
   "source": [
    "#%% GLOBAL VARIABLE/UNIT CONVERSIONS\n"
   ]
  },
  {
   "cell_type": "code",
   "execution_count": null,
   "id": "6771f332-4dac-4e4e-a01f-fad8fd49aac7",
   "metadata": {},
   "outputs": [],
   "source": [
    "#%% Load data function\n",
    "\n",
    "def load(filename):\n",
    "    df = pd.read_csv(filename, index_col=[0])\n",
    "    df.index = pd.to_datetime(df.index, format='mixed', errors='coerce')\n",
    "    df.columns = df.columns.str.lower().str.strip()\n",
    "    return df"
   ]
  },
  {
   "cell_type": "code",
   "execution_count": null,
   "id": "965931c9-2e01-4100-9b77-5f7e6fdd256e",
   "metadata": {},
   "outputs": [],
   "source": [
    "#%% Load all N file(s)\n",
    "\n",
    "raw_ndata = pd.DataFrame()\n",
    "\n",
    "for file in n_files:\n",
    "    raw_ndata = pd.concat([raw_ndata, load(file)], axis = 0)\n",
    "    \n",
    "# N QC flag columns\n",
    "if 'no3.mgl.qf' in raw_ndata.columns.tolist():\n",
    "    n_data = raw_ndata[raw_ndata['no3.mgl.qf'] == False] #false is good\n",
    "\n",
    "if 'flag' in raw_ndata.columns.tolist():\n",
    "    n_data = raw_ndata[~raw_ndata['flag'].isin([1,2])] #1,2 is bad\n"
   ]
  },
  {
   "cell_type": "code",
   "execution_count": null,
   "id": "1cadec32-bddd-43c7-849f-5ab65bf41939",
   "metadata": {},
   "outputs": [],
   "source": [
    "#%% Load Q file(s)\n",
    "\n",
    "raw_qdata = pd.DataFrame()\n",
    "\n",
    "for file in q_files:\n",
    "    raw_qdata = pd.concat([raw_qdata, load(file)], axis = 0)\n",
    "    \n",
    "# Q QC flag columns\n",
    "if 'q.m3sqf' in raw_qdata.columns.tolist():\n",
    "    q_data = raw_qdata[raw_qdata['q.m3sqf'] == False]"
   ]
  },
  {
   "cell_type": "code",
   "execution_count": null,
   "id": "7a987615-9502-4fd8-ae0e-e32cfdff91e7",
   "metadata": {},
   "outputs": [],
   "source": [
    "#%% Combine N and Q files\n",
    "\n",
    "keep_cols = ['no3.mgl', 'q.m3s', 'measured.q.m3s']\n",
    "\n",
    "data = pd.merge(n_data, q_data, how='outer', left_index=True, right_index=True)\n",
    "data = data[keep_cols]\n",
    "\n",
    "data.rename(columns={'no3.mgl': 'N'}, inplace=True)\n",
    "data.rename(columns={'q.m3s': 'Q'}, inplace=True)"
   ]
  },
  {
   "cell_type": "code",
   "execution_count": null,
   "id": "bc3a17ac-a1ff-43f6-b262-72b313578df5",
   "metadata": {},
   "outputs": [],
   "source": [
    "#%% Checks function\n",
    "\n",
    "check_n = n_data[n_data['no3.mgl'].notna()]\n",
    "check_n2 = data[data['N'].notna()]\n",
    "\n",
    "check_q = q_data[q_data['q.m3s'].notna()]\n",
    "check_q2 = data[data['Q'].notna()]\n"
   ]
  },
  {
   "cell_type": "code",
   "execution_count": null,
   "id": "6f39b5e7-a630-401d-b04d-9c3b1146528c",
   "metadata": {},
   "outputs": [],
   "source": [
    "# Plots!\n",
    "\n",
    "#data = data.loc['2024-08-01':'2024-08-15'] #to subset data/zoom in, will integrate into a plot function\n",
    "\n",
    "fig1, ax1 = plt.subplots(figsize=(12, 4))\n",
    "\n",
    "# Plot nitrate concentration (left Y-axis)\n",
    "ax1.plot(data.index, data.N, color='orange', label=\"Nitrate (mg/L)\", linewidth=1)\n",
    "ax1.set_ylabel(\"Nitrate concentration (mg/L)\", color='orange')\n",
    "ax1.tick_params(axis='y', labelcolor='orange')\n",
    "\n",
    "# Create a twin axis sharing the same X-axis\n",
    "ax2 = ax1.twinx()\n",
    "\n",
    "# Plot discharge (right Y-axis)\n",
    "ax2.plot(data.index, data.Q, color='blue', label=\"Discharge (m³/s)\", linewidth=.5)\n",
    "ax2.set_ylabel(\"Discharge (m³/s)\", color='blue')\n",
    "ax2.tick_params(axis='y', labelcolor='blue')\n",
    "\n",
    "# Add title\n",
    "ax1.set_title(\"College Brook, NH: Q versus N over time\")\n",
    "\n",
    "# Auto-format date labels\n",
    "fig1.autofmt_xdate()\n",
    "\n",
    "# Combine legends from both axes\n",
    "lines_1, labels_1 = ax1.get_legend_handles_labels()\n",
    "lines_2, labels_2 = ax2.get_legend_handles_labels()\n",
    "ax1.legend(lines_1 + lines_2, labels_1 + labels_2, loc='upper left')\n",
    "\n",
    "plt.show()"
   ]
  }
 ],
 "metadata": {
  "kernelspec": {
   "display_name": "Python 3 (ipykernel)",
   "language": "python",
   "name": "python3"
  },
  "language_info": {
   "codemirror_mode": {
    "name": "ipython",
    "version": 3
   },
   "file_extension": ".py",
   "mimetype": "text/x-python",
   "name": "python",
   "nbconvert_exporter": "python",
   "pygments_lexer": "ipython3",
   "version": "3.12.4"
  }
 },
 "nbformat": 4,
 "nbformat_minor": 5
}
